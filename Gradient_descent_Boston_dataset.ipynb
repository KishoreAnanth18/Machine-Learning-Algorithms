{
  "nbformat": 4,
  "nbformat_minor": 0,
  "metadata": {
    "colab": {
      "provenance": []
    },
    "kernelspec": {
      "name": "python3",
      "display_name": "Python 3"
    },
    "language_info": {
      "name": "python"
    }
  },
  "cells": [
    {
      "cell_type": "code",
      "source": [
        "import numpy as np\n",
        "import pandas as pd\n",
        "import matplotlib.pyplot as plt\n",
        "from sklearn import preprocessing\n",
        "from sklearn.datasets import load_boston\n",
        "import warnings\n",
        "warnings.filterwarnings(\"ignore\")\n",
        "from prettytable import PrettyTable\n",
        "from sklearn.linear_model import SGDRegressor\n",
        "from sklearn.metrics import mean_squared_error\n",
        "from numpy import random\n",
        "from sklearn.model_selection import train_test_split"
      ],
      "metadata": {
        "id": "w9pBEkvYCxuA"
      },
      "execution_count": null,
      "outputs": []
    },
    {
      "cell_type": "code",
      "source": [
        "df=pd.DataFrame(load_boston().data,columns=load_boston().feature_names)"
      ],
      "metadata": {
        "id": "oPCrK0GLDYg5"
      },
      "execution_count": null,
      "outputs": []
    },
    {
      "cell_type": "code",
      "source": [
        "df.head()"
      ],
      "metadata": {
        "colab": {
          "base_uri": "https://localhost:8080/",
          "height": 206
        },
        "id": "EM1zqOT2X5xg",
        "outputId": "2a9d5324-9e20-4152-b62b-251e62d36bde"
      },
      "execution_count": null,
      "outputs": [
        {
          "output_type": "execute_result",
          "data": {
            "text/plain": [
              "      CRIM    ZN  INDUS  CHAS    NOX     RM   AGE     DIS  RAD    TAX  \\\n",
              "0  0.00632  18.0   2.31   0.0  0.538  6.575  65.2  4.0900  1.0  296.0   \n",
              "1  0.02731   0.0   7.07   0.0  0.469  6.421  78.9  4.9671  2.0  242.0   \n",
              "2  0.02729   0.0   7.07   0.0  0.469  7.185  61.1  4.9671  2.0  242.0   \n",
              "3  0.03237   0.0   2.18   0.0  0.458  6.998  45.8  6.0622  3.0  222.0   \n",
              "4  0.06905   0.0   2.18   0.0  0.458  7.147  54.2  6.0622  3.0  222.0   \n",
              "\n",
              "   PTRATIO       B  LSTAT  \n",
              "0     15.3  396.90   4.98  \n",
              "1     17.8  396.90   9.14  \n",
              "2     17.8  392.83   4.03  \n",
              "3     18.7  394.63   2.94  \n",
              "4     18.7  396.90   5.33  "
            ],
            "text/html": [
              "\n",
              "  <div id=\"df-25b129cd-f3d7-47a4-b157-c9e936b1d0c5\">\n",
              "    <div class=\"colab-df-container\">\n",
              "      <div>\n",
              "<style scoped>\n",
              "    .dataframe tbody tr th:only-of-type {\n",
              "        vertical-align: middle;\n",
              "    }\n",
              "\n",
              "    .dataframe tbody tr th {\n",
              "        vertical-align: top;\n",
              "    }\n",
              "\n",
              "    .dataframe thead th {\n",
              "        text-align: right;\n",
              "    }\n",
              "</style>\n",
              "<table border=\"1\" class=\"dataframe\">\n",
              "  <thead>\n",
              "    <tr style=\"text-align: right;\">\n",
              "      <th></th>\n",
              "      <th>CRIM</th>\n",
              "      <th>ZN</th>\n",
              "      <th>INDUS</th>\n",
              "      <th>CHAS</th>\n",
              "      <th>NOX</th>\n",
              "      <th>RM</th>\n",
              "      <th>AGE</th>\n",
              "      <th>DIS</th>\n",
              "      <th>RAD</th>\n",
              "      <th>TAX</th>\n",
              "      <th>PTRATIO</th>\n",
              "      <th>B</th>\n",
              "      <th>LSTAT</th>\n",
              "    </tr>\n",
              "  </thead>\n",
              "  <tbody>\n",
              "    <tr>\n",
              "      <th>0</th>\n",
              "      <td>0.00632</td>\n",
              "      <td>18.0</td>\n",
              "      <td>2.31</td>\n",
              "      <td>0.0</td>\n",
              "      <td>0.538</td>\n",
              "      <td>6.575</td>\n",
              "      <td>65.2</td>\n",
              "      <td>4.0900</td>\n",
              "      <td>1.0</td>\n",
              "      <td>296.0</td>\n",
              "      <td>15.3</td>\n",
              "      <td>396.90</td>\n",
              "      <td>4.98</td>\n",
              "    </tr>\n",
              "    <tr>\n",
              "      <th>1</th>\n",
              "      <td>0.02731</td>\n",
              "      <td>0.0</td>\n",
              "      <td>7.07</td>\n",
              "      <td>0.0</td>\n",
              "      <td>0.469</td>\n",
              "      <td>6.421</td>\n",
              "      <td>78.9</td>\n",
              "      <td>4.9671</td>\n",
              "      <td>2.0</td>\n",
              "      <td>242.0</td>\n",
              "      <td>17.8</td>\n",
              "      <td>396.90</td>\n",
              "      <td>9.14</td>\n",
              "    </tr>\n",
              "    <tr>\n",
              "      <th>2</th>\n",
              "      <td>0.02729</td>\n",
              "      <td>0.0</td>\n",
              "      <td>7.07</td>\n",
              "      <td>0.0</td>\n",
              "      <td>0.469</td>\n",
              "      <td>7.185</td>\n",
              "      <td>61.1</td>\n",
              "      <td>4.9671</td>\n",
              "      <td>2.0</td>\n",
              "      <td>242.0</td>\n",
              "      <td>17.8</td>\n",
              "      <td>392.83</td>\n",
              "      <td>4.03</td>\n",
              "    </tr>\n",
              "    <tr>\n",
              "      <th>3</th>\n",
              "      <td>0.03237</td>\n",
              "      <td>0.0</td>\n",
              "      <td>2.18</td>\n",
              "      <td>0.0</td>\n",
              "      <td>0.458</td>\n",
              "      <td>6.998</td>\n",
              "      <td>45.8</td>\n",
              "      <td>6.0622</td>\n",
              "      <td>3.0</td>\n",
              "      <td>222.0</td>\n",
              "      <td>18.7</td>\n",
              "      <td>394.63</td>\n",
              "      <td>2.94</td>\n",
              "    </tr>\n",
              "    <tr>\n",
              "      <th>4</th>\n",
              "      <td>0.06905</td>\n",
              "      <td>0.0</td>\n",
              "      <td>2.18</td>\n",
              "      <td>0.0</td>\n",
              "      <td>0.458</td>\n",
              "      <td>7.147</td>\n",
              "      <td>54.2</td>\n",
              "      <td>6.0622</td>\n",
              "      <td>3.0</td>\n",
              "      <td>222.0</td>\n",
              "      <td>18.7</td>\n",
              "      <td>396.90</td>\n",
              "      <td>5.33</td>\n",
              "    </tr>\n",
              "  </tbody>\n",
              "</table>\n",
              "</div>\n",
              "      <button class=\"colab-df-convert\" onclick=\"convertToInteractive('df-25b129cd-f3d7-47a4-b157-c9e936b1d0c5')\"\n",
              "              title=\"Convert this dataframe to an interactive table.\"\n",
              "              style=\"display:none;\">\n",
              "        \n",
              "  <svg xmlns=\"http://www.w3.org/2000/svg\" height=\"24px\"viewBox=\"0 0 24 24\"\n",
              "       width=\"24px\">\n",
              "    <path d=\"M0 0h24v24H0V0z\" fill=\"none\"/>\n",
              "    <path d=\"M18.56 5.44l.94 2.06.94-2.06 2.06-.94-2.06-.94-.94-2.06-.94 2.06-2.06.94zm-11 1L8.5 8.5l.94-2.06 2.06-.94-2.06-.94L8.5 2.5l-.94 2.06-2.06.94zm10 10l.94 2.06.94-2.06 2.06-.94-2.06-.94-.94-2.06-.94 2.06-2.06.94z\"/><path d=\"M17.41 7.96l-1.37-1.37c-.4-.4-.92-.59-1.43-.59-.52 0-1.04.2-1.43.59L10.3 9.45l-7.72 7.72c-.78.78-.78 2.05 0 2.83L4 21.41c.39.39.9.59 1.41.59.51 0 1.02-.2 1.41-.59l7.78-7.78 2.81-2.81c.8-.78.8-2.07 0-2.86zM5.41 20L4 18.59l7.72-7.72 1.47 1.35L5.41 20z\"/>\n",
              "  </svg>\n",
              "      </button>\n",
              "      \n",
              "  <style>\n",
              "    .colab-df-container {\n",
              "      display:flex;\n",
              "      flex-wrap:wrap;\n",
              "      gap: 12px;\n",
              "    }\n",
              "\n",
              "    .colab-df-convert {\n",
              "      background-color: #E8F0FE;\n",
              "      border: none;\n",
              "      border-radius: 50%;\n",
              "      cursor: pointer;\n",
              "      display: none;\n",
              "      fill: #1967D2;\n",
              "      height: 32px;\n",
              "      padding: 0 0 0 0;\n",
              "      width: 32px;\n",
              "    }\n",
              "\n",
              "    .colab-df-convert:hover {\n",
              "      background-color: #E2EBFA;\n",
              "      box-shadow: 0px 1px 2px rgba(60, 64, 67, 0.3), 0px 1px 3px 1px rgba(60, 64, 67, 0.15);\n",
              "      fill: #174EA6;\n",
              "    }\n",
              "\n",
              "    [theme=dark] .colab-df-convert {\n",
              "      background-color: #3B4455;\n",
              "      fill: #D2E3FC;\n",
              "    }\n",
              "\n",
              "    [theme=dark] .colab-df-convert:hover {\n",
              "      background-color: #434B5C;\n",
              "      box-shadow: 0px 1px 3px 1px rgba(0, 0, 0, 0.15);\n",
              "      filter: drop-shadow(0px 1px 2px rgba(0, 0, 0, 0.3));\n",
              "      fill: #FFFFFF;\n",
              "    }\n",
              "  </style>\n",
              "\n",
              "      <script>\n",
              "        const buttonEl =\n",
              "          document.querySelector('#df-25b129cd-f3d7-47a4-b157-c9e936b1d0c5 button.colab-df-convert');\n",
              "        buttonEl.style.display =\n",
              "          google.colab.kernel.accessAllowed ? 'block' : 'none';\n",
              "\n",
              "        async function convertToInteractive(key) {\n",
              "          const element = document.querySelector('#df-25b129cd-f3d7-47a4-b157-c9e936b1d0c5');\n",
              "          const dataTable =\n",
              "            await google.colab.kernel.invokeFunction('convertToInteractive',\n",
              "                                                     [key], {});\n",
              "          if (!dataTable) return;\n",
              "\n",
              "          const docLinkHtml = 'Like what you see? Visit the ' +\n",
              "            '<a target=\"_blank\" href=https://colab.research.google.com/notebooks/data_table.ipynb>data table notebook</a>'\n",
              "            + ' to learn more about interactive tables.';\n",
              "          element.innerHTML = '';\n",
              "          dataTable['output_type'] = 'display_data';\n",
              "          await google.colab.output.renderOutput(dataTable, element);\n",
              "          const docLink = document.createElement('div');\n",
              "          docLink.innerHTML = docLinkHtml;\n",
              "          element.appendChild(docLink);\n",
              "        }\n",
              "      </script>\n",
              "    </div>\n",
              "  </div>\n",
              "  "
            ]
          },
          "metadata": {},
          "execution_count": 3
        }
      ]
    },
    {
      "cell_type": "code",
      "source": [
        "df.shape"
      ],
      "metadata": {
        "colab": {
          "base_uri": "https://localhost:8080/"
        },
        "id": "fZGvm6G_bS-3",
        "outputId": "95758b5e-b5ab-4ea7-9972-c4ea77817957"
      },
      "execution_count": null,
      "outputs": [
        {
          "output_type": "execute_result",
          "data": {
            "text/plain": [
              "(506, 13)"
            ]
          },
          "metadata": {},
          "execution_count": 4
        }
      ]
    },
    {
      "cell_type": "code",
      "source": [
        "X=load_boston().data\n",
        "Y=load_boston().target"
      ],
      "metadata": {
        "id": "cNDSLEmQDdRJ"
      },
      "execution_count": null,
      "outputs": []
    },
    {
      "cell_type": "code",
      "source": [
        "x_train,x_test,y_train,y_test=train_test_split(X,Y,test_size=0.2)"
      ],
      "metadata": {
        "id": "fB6X4QRQDkOJ"
      },
      "execution_count": null,
      "outputs": []
    },
    {
      "cell_type": "code",
      "source": [
        "print(\"X Shape: \",X.shape)\n",
        "print(\"Y Shape: \",Y.shape)\n",
        "print(\"X_Train Shape: \",x_train.shape)\n",
        "print(\"X_Test Shape: \",x_test.shape)\n",
        "print(\"Y_Train Shape: \",y_train.shape)\n",
        "print(\"Y_Test Shape: \",y_test.shape)"
      ],
      "metadata": {
        "colab": {
          "base_uri": "https://localhost:8080/"
        },
        "id": "UBvLGRUUDpNr",
        "outputId": "8bd6a6cf-902f-418e-a28e-f56d142fb073"
      },
      "execution_count": null,
      "outputs": [
        {
          "output_type": "stream",
          "name": "stdout",
          "text": [
            "X Shape:  (506, 13)\n",
            "Y Shape:  (506,)\n",
            "X_Train Shape:  (404, 13)\n",
            "X_Test Shape:  (102, 13)\n",
            "Y_Train Shape:  (404,)\n",
            "Y_Test Shape:  (102,)\n"
          ]
        }
      ]
    },
    {
      "cell_type": "code",
      "source": [
        "scaler = preprocessing.StandardScaler().fit(x_train)\n",
        "x_train = scaler.transform(x_train)\n",
        "x_test=scaler.transform(x_test)"
      ],
      "metadata": {
        "id": "ryjsq_45DqBj"
      },
      "execution_count": null,
      "outputs": []
    },
    {
      "cell_type": "code",
      "source": [
        "train_data=pd.DataFrame(x_train)\n",
        "train_data['price']=y_train\n",
        "train_data.head()"
      ],
      "metadata": {
        "colab": {
          "base_uri": "https://localhost:8080/",
          "height": 206
        },
        "id": "Z-lEkr3ADs5z",
        "outputId": "d77daa95-cc16-49a6-b995-6be141c4ed88"
      },
      "execution_count": null,
      "outputs": [
        {
          "output_type": "execute_result",
          "data": {
            "text/plain": [
              "          0         1         2         3         4         5         6  \\\n",
              "0 -0.409662 -0.477978 -0.869715 -0.288288 -0.345536 -0.563820 -0.334621   \n",
              "1 -0.402644 -0.477978  0.251745 -0.288288 -1.019762  0.011260 -0.856497   \n",
              "2 -0.407210 -0.477978 -1.130998 -0.288288 -0.570278  1.177599 -0.209514   \n",
              "3 -0.409039  2.906825 -0.904944 -0.288288 -1.244504  0.517213 -1.628586   \n",
              "4 -0.405815 -0.477978 -1.270446 -0.288288 -0.578922  2.186563  0.512532   \n",
              "\n",
              "          7         8         9        10        11        12  price  \n",
              "0  0.873831 -0.524106 -1.098495  0.801071  0.417096 -0.295608   18.5  \n",
              "1  0.342613 -0.524106 -0.065344  0.096296  0.288665 -0.526252   21.4  \n",
              "2 -0.177001 -0.866541 -0.825363 -0.326569  0.430959 -0.987542   28.7  \n",
              "3  0.635872 -0.638251 -0.973804  0.331221  0.440276 -1.129915   27.9  \n",
              "4 -0.498626 -0.752396 -1.282562 -0.326569  0.425414 -0.722727   39.8  "
            ],
            "text/html": [
              "\n",
              "  <div id=\"df-95155002-e6ae-4603-bb8c-09a251483bf9\">\n",
              "    <div class=\"colab-df-container\">\n",
              "      <div>\n",
              "<style scoped>\n",
              "    .dataframe tbody tr th:only-of-type {\n",
              "        vertical-align: middle;\n",
              "    }\n",
              "\n",
              "    .dataframe tbody tr th {\n",
              "        vertical-align: top;\n",
              "    }\n",
              "\n",
              "    .dataframe thead th {\n",
              "        text-align: right;\n",
              "    }\n",
              "</style>\n",
              "<table border=\"1\" class=\"dataframe\">\n",
              "  <thead>\n",
              "    <tr style=\"text-align: right;\">\n",
              "      <th></th>\n",
              "      <th>0</th>\n",
              "      <th>1</th>\n",
              "      <th>2</th>\n",
              "      <th>3</th>\n",
              "      <th>4</th>\n",
              "      <th>5</th>\n",
              "      <th>6</th>\n",
              "      <th>7</th>\n",
              "      <th>8</th>\n",
              "      <th>9</th>\n",
              "      <th>10</th>\n",
              "      <th>11</th>\n",
              "      <th>12</th>\n",
              "      <th>price</th>\n",
              "    </tr>\n",
              "  </thead>\n",
              "  <tbody>\n",
              "    <tr>\n",
              "      <th>0</th>\n",
              "      <td>-0.409662</td>\n",
              "      <td>-0.477978</td>\n",
              "      <td>-0.869715</td>\n",
              "      <td>-0.288288</td>\n",
              "      <td>-0.345536</td>\n",
              "      <td>-0.563820</td>\n",
              "      <td>-0.334621</td>\n",
              "      <td>0.873831</td>\n",
              "      <td>-0.524106</td>\n",
              "      <td>-1.098495</td>\n",
              "      <td>0.801071</td>\n",
              "      <td>0.417096</td>\n",
              "      <td>-0.295608</td>\n",
              "      <td>18.5</td>\n",
              "    </tr>\n",
              "    <tr>\n",
              "      <th>1</th>\n",
              "      <td>-0.402644</td>\n",
              "      <td>-0.477978</td>\n",
              "      <td>0.251745</td>\n",
              "      <td>-0.288288</td>\n",
              "      <td>-1.019762</td>\n",
              "      <td>0.011260</td>\n",
              "      <td>-0.856497</td>\n",
              "      <td>0.342613</td>\n",
              "      <td>-0.524106</td>\n",
              "      <td>-0.065344</td>\n",
              "      <td>0.096296</td>\n",
              "      <td>0.288665</td>\n",
              "      <td>-0.526252</td>\n",
              "      <td>21.4</td>\n",
              "    </tr>\n",
              "    <tr>\n",
              "      <th>2</th>\n",
              "      <td>-0.407210</td>\n",
              "      <td>-0.477978</td>\n",
              "      <td>-1.130998</td>\n",
              "      <td>-0.288288</td>\n",
              "      <td>-0.570278</td>\n",
              "      <td>1.177599</td>\n",
              "      <td>-0.209514</td>\n",
              "      <td>-0.177001</td>\n",
              "      <td>-0.866541</td>\n",
              "      <td>-0.825363</td>\n",
              "      <td>-0.326569</td>\n",
              "      <td>0.430959</td>\n",
              "      <td>-0.987542</td>\n",
              "      <td>28.7</td>\n",
              "    </tr>\n",
              "    <tr>\n",
              "      <th>3</th>\n",
              "      <td>-0.409039</td>\n",
              "      <td>2.906825</td>\n",
              "      <td>-0.904944</td>\n",
              "      <td>-0.288288</td>\n",
              "      <td>-1.244504</td>\n",
              "      <td>0.517213</td>\n",
              "      <td>-1.628586</td>\n",
              "      <td>0.635872</td>\n",
              "      <td>-0.638251</td>\n",
              "      <td>-0.973804</td>\n",
              "      <td>0.331221</td>\n",
              "      <td>0.440276</td>\n",
              "      <td>-1.129915</td>\n",
              "      <td>27.9</td>\n",
              "    </tr>\n",
              "    <tr>\n",
              "      <th>4</th>\n",
              "      <td>-0.405815</td>\n",
              "      <td>-0.477978</td>\n",
              "      <td>-1.270446</td>\n",
              "      <td>-0.288288</td>\n",
              "      <td>-0.578922</td>\n",
              "      <td>2.186563</td>\n",
              "      <td>0.512532</td>\n",
              "      <td>-0.498626</td>\n",
              "      <td>-0.752396</td>\n",
              "      <td>-1.282562</td>\n",
              "      <td>-0.326569</td>\n",
              "      <td>0.425414</td>\n",
              "      <td>-0.722727</td>\n",
              "      <td>39.8</td>\n",
              "    </tr>\n",
              "  </tbody>\n",
              "</table>\n",
              "</div>\n",
              "      <button class=\"colab-df-convert\" onclick=\"convertToInteractive('df-95155002-e6ae-4603-bb8c-09a251483bf9')\"\n",
              "              title=\"Convert this dataframe to an interactive table.\"\n",
              "              style=\"display:none;\">\n",
              "        \n",
              "  <svg xmlns=\"http://www.w3.org/2000/svg\" height=\"24px\"viewBox=\"0 0 24 24\"\n",
              "       width=\"24px\">\n",
              "    <path d=\"M0 0h24v24H0V0z\" fill=\"none\"/>\n",
              "    <path d=\"M18.56 5.44l.94 2.06.94-2.06 2.06-.94-2.06-.94-.94-2.06-.94 2.06-2.06.94zm-11 1L8.5 8.5l.94-2.06 2.06-.94-2.06-.94L8.5 2.5l-.94 2.06-2.06.94zm10 10l.94 2.06.94-2.06 2.06-.94-2.06-.94-.94-2.06-.94 2.06-2.06.94z\"/><path d=\"M17.41 7.96l-1.37-1.37c-.4-.4-.92-.59-1.43-.59-.52 0-1.04.2-1.43.59L10.3 9.45l-7.72 7.72c-.78.78-.78 2.05 0 2.83L4 21.41c.39.39.9.59 1.41.59.51 0 1.02-.2 1.41-.59l7.78-7.78 2.81-2.81c.8-.78.8-2.07 0-2.86zM5.41 20L4 18.59l7.72-7.72 1.47 1.35L5.41 20z\"/>\n",
              "  </svg>\n",
              "      </button>\n",
              "      \n",
              "  <style>\n",
              "    .colab-df-container {\n",
              "      display:flex;\n",
              "      flex-wrap:wrap;\n",
              "      gap: 12px;\n",
              "    }\n",
              "\n",
              "    .colab-df-convert {\n",
              "      background-color: #E8F0FE;\n",
              "      border: none;\n",
              "      border-radius: 50%;\n",
              "      cursor: pointer;\n",
              "      display: none;\n",
              "      fill: #1967D2;\n",
              "      height: 32px;\n",
              "      padding: 0 0 0 0;\n",
              "      width: 32px;\n",
              "    }\n",
              "\n",
              "    .colab-df-convert:hover {\n",
              "      background-color: #E2EBFA;\n",
              "      box-shadow: 0px 1px 2px rgba(60, 64, 67, 0.3), 0px 1px 3px 1px rgba(60, 64, 67, 0.15);\n",
              "      fill: #174EA6;\n",
              "    }\n",
              "\n",
              "    [theme=dark] .colab-df-convert {\n",
              "      background-color: #3B4455;\n",
              "      fill: #D2E3FC;\n",
              "    }\n",
              "\n",
              "    [theme=dark] .colab-df-convert:hover {\n",
              "      background-color: #434B5C;\n",
              "      box-shadow: 0px 1px 3px 1px rgba(0, 0, 0, 0.15);\n",
              "      filter: drop-shadow(0px 1px 2px rgba(0, 0, 0, 0.3));\n",
              "      fill: #FFFFFF;\n",
              "    }\n",
              "  </style>\n",
              "\n",
              "      <script>\n",
              "        const buttonEl =\n",
              "          document.querySelector('#df-95155002-e6ae-4603-bb8c-09a251483bf9 button.colab-df-convert');\n",
              "        buttonEl.style.display =\n",
              "          google.colab.kernel.accessAllowed ? 'block' : 'none';\n",
              "\n",
              "        async function convertToInteractive(key) {\n",
              "          const element = document.querySelector('#df-95155002-e6ae-4603-bb8c-09a251483bf9');\n",
              "          const dataTable =\n",
              "            await google.colab.kernel.invokeFunction('convertToInteractive',\n",
              "                                                     [key], {});\n",
              "          if (!dataTable) return;\n",
              "\n",
              "          const docLinkHtml = 'Like what you see? Visit the ' +\n",
              "            '<a target=\"_blank\" href=https://colab.research.google.com/notebooks/data_table.ipynb>data table notebook</a>'\n",
              "            + ' to learn more about interactive tables.';\n",
              "          element.innerHTML = '';\n",
              "          dataTable['output_type'] = 'display_data';\n",
              "          await google.colab.output.renderOutput(dataTable, element);\n",
              "          const docLink = document.createElement('div');\n",
              "          docLink.innerHTML = docLinkHtml;\n",
              "          element.appendChild(docLink);\n",
              "        }\n",
              "      </script>\n",
              "    </div>\n",
              "  </div>\n",
              "  "
            ]
          },
          "metadata": {},
          "execution_count": 9
        }
      ]
    },
    {
      "cell_type": "code",
      "source": [
        "x_test=np.array(x_test)\n",
        "y_test=np.array(y_test)"
      ],
      "metadata": {
        "id": "SUoPJSz5D9Bj"
      },
      "execution_count": null,
      "outputs": []
    },
    {
      "cell_type": "code",
      "source": [
        "n_iter=100\n",
        "clf_ = SGDRegressor(max_iter=n_iter)\n",
        "clf_.fit(x_train, y_train)\n",
        "y_pred_sksgd=clf_.predict(x_test)\n",
        "plt.scatter(y_test,y_pred_sksgd)\n",
        "plt.grid()\n",
        "plt.xlabel('Actual y')\n",
        "plt.ylabel('Predicted y')\n",
        "plt.title('Scatter plot from actual y and predicted y')\n",
        "plt.show()"
      ],
      "metadata": {
        "colab": {
          "base_uri": "https://localhost:8080/",
          "height": 295
        },
        "id": "sMEqB1JtEARD",
        "outputId": "6e3d44c6-ea09-44e0-d649-31b5df845c06"
      },
      "execution_count": null,
      "outputs": [
        {
          "output_type": "display_data",
          "data": {
            "text/plain": [
              "<Figure size 432x288 with 1 Axes>"
            ],
            "image/png": "[encoded data removed]"
          },
          "metadata": {
            "needs_background": "light"
          }
        }
      ]
    },
    {
      "cell_type": "code",
      "source": [
        "y_pred_sksgd"
      ],
      "metadata": {
        "id": "QYPzhxi-eOmG",
        "outputId": "ccd6deb4-533e-4398-aeda-b79190b8030f",
        "colab": {
          "base_uri": "https://localhost:8080/"
        }
      },
      "execution_count": null,
      "outputs": [
        {
          "output_type": "execute_result",
          "data": {
            "text/plain": [
              "array([23.12459981, 22.64585138, 22.06633485, 20.83832815, 13.43820265,\n",
              "        9.12267286, 33.97434853, 21.87433847, 13.51187897, 39.5925348 ,\n",
              "       29.68738275, 23.66445083, 16.60304221, 25.64618931, 17.27770161,\n",
              "       28.48506287, 33.10069882, 34.93798644, 12.05223701, 24.90302841,\n",
              "        5.39373345, 34.64448402, 24.17275786, 24.8612245 , 12.01212758,\n",
              "       17.60345673, 17.0336272 , 33.49624749, 25.56363816, 15.74294227,\n",
              "       18.23153055, 31.89151728, 19.20910728, 13.55607651, 19.71093237,\n",
              "       38.20413755, 23.0407104 , 31.43970705, 27.23802955, 16.15071128,\n",
              "       25.4722801 , 28.79847239, 13.96191376, 23.6499619 , 24.76704293,\n",
              "       22.53825866, 25.06396015, 21.82583794, 17.01173282, 21.94501631,\n",
              "       13.92954986, 17.54293998, 20.43187146, 28.07380107, 15.38746844,\n",
              "       24.44379343,  0.17094672, 12.49945984, 27.38454102, 18.47105274,\n",
              "       14.74084678, 17.24382157, 24.63472266, 23.37768685, 20.62693786,\n",
              "       22.04795454, 39.61862686, 11.45279616, 13.53917534, 36.29845865,\n",
              "       27.43987947, 34.53324044, 39.87193274, 16.81248146, 18.99666581,\n",
              "       17.0691295 , 36.704671  ,  7.36146712, 24.12076243, 20.59856534,\n",
              "        8.60213599, 19.32619461, 24.65190945, 24.50090702, 24.53491309,\n",
              "        4.85736489, 21.9216856 , 20.28106015, 30.83347855, 20.97891239,\n",
              "       32.36578994, 14.72708355, 16.8756013 , 16.83952196, 22.59906099,\n",
              "       22.33587847, 30.71029424, 27.59698441, 37.09605163, 29.84237095,\n",
              "       31.61225611, 16.2870571 ])"
            ]
          },
          "metadata": {},
          "execution_count": 16
        }
      ]
    },
    {
      "cell_type": "code",
      "source": [
        "print('Mean Squared Error :',mean_squared_error(y_test, y_pred_sksgd))"
      ],
      "metadata": {
        "colab": {
          "base_uri": "https://localhost:8080/"
        },
        "id": "LVS_EbqLEGfS",
        "outputId": "42a8eb80-69dd-42b6-f639-a3428a320120"
      },
      "execution_count": null,
      "outputs": [
        {
          "output_type": "stream",
          "name": "stdout",
          "text": [
            "Mean Squared Error : 27.677558225281576\n"
          ]
        }
      ]
    },
    {
      "cell_type": "code",
      "source": [
        "def MyCustomSGD(train_data,learning_rate,n_iter,k,divideby):\n",
        "\n",
        " # Initially we will keep our W and B as 0 as per the Training Data\n",
        " w=np.zeros(shape=(1,train_data.shape[1]-1))\n",
        " b=0\n",
        "\n",
        " cur_iter=1\n",
        " while(cur_iter<=n_iter):\n",
        " # We will create a small training data set of size K\n",
        "  temp=train_data.sample(k)\n",
        "\n",
        " # We create our X and Y from the above temp dataset\n",
        "  y=np.array(temp['price'])\n",
        "  x=np.array(temp.drop('price',axis=1))\n",
        "\n",
        " # We keep our initial gradients as 0\n",
        "  w_gradient=np.zeros(shape=(1,train_data.shape[1]-1))\n",
        "  b_gradient=0\n",
        "\n",
        "  for i in range(k): # Calculating gradients for point in our K sized dataset\n",
        "    prediction=np.dot(w,x[i])+b\n",
        "    w_gradient=w_gradient+(-2)*x[i]*(y[i]-(prediction))\n",
        "    b_gradient=b_gradient+(-2)*(y[i]-(prediction))\n",
        "\n",
        " #Updating the weights(W) and Bias(b) with the above calculated Gradients\n",
        "    w=w-learning_rate*(w_gradient/k)\n",
        "    b=b-learning_rate*(b_gradient/k)\n",
        "\n",
        " # Incrementing the iteration value\n",
        "    cur_iter=cur_iter+1\n",
        "\n",
        " #Dividing the learning rate by the specified value\n",
        "    learning_rate=learning_rate/divideby\n",
        "\n",
        "  return w,b #Returning the weights and Bias"
      ],
      "metadata": {
        "id": "V_TZl2eeEJ7q"
      },
      "execution_count": null,
      "outputs": []
    },
    {
      "cell_type": "code",
      "source": [
        "def predict(x,w,b):\n",
        " y_pred=[]\n",
        " for i in range(len(x)):\n",
        "  y=np.asscalar(np.dot(w,x[i])+b)\n",
        "  y_pred.append(y)\n",
        " return np.array(y_pred)"
      ],
      "metadata": {
        "id": "8SjE-5qDESCq"
      },
      "execution_count": null,
      "outputs": []
    },
    {
      "cell_type": "code",
      "source": [
        "w,b=MyCustomSGD(train_data,learning_rate=1,n_iter=100,divideby=2,k=10)\n",
        "y_pred_customsgd=predict(x_test,w,b)\n",
        "plt.scatter(y_test,y_pred_customsgd)\n",
        "plt.grid()\n",
        "plt.xlabel('Actual y')\n",
        "plt.ylabel('Predicted y')\n",
        "plt.title('Scatter plot from actual y and predicted y')\n",
        "plt.show()\n",
        "print('Mean Squared Error :',mean_squared_error(y_test, y_pred_customsgd))"
      ],
      "metadata": {
        "colab": {
          "base_uri": "https://localhost:8080/",
          "height": 312
        },
        "id": "MDlWcNQVHXrO",
        "outputId": "5a59c5dc-2cee-4ac4-fbac-278a1eee7a3d"
      },
      "execution_count": null,
      "outputs": [
        {
          "output_type": "display_data",
          "data": {
            "text/plain": [
              "<Figure size 432x288 with 1 Axes>"
            ],
            "image/png": "[encoded data removed]"
          },
          "metadata": {
            "needs_background": "light"
          }
        },
        {
          "output_type": "stream",
          "name": "stdout",
          "text": [
            "Mean Squared Error : 343.61956294930644\n"
          ]
        }
      ]
    }
  ]
}